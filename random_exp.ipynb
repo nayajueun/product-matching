{
 "cells": [
  {
   "cell_type": "code",
   "execution_count": null,
   "metadata": {},
   "outputs": [],
   "source": [
    "from sentence_transformers import SentenceTransformer, InputExample\n",
    "from sentence_transformers.evaluation import EmbeddingSimilarityEvaluator"
   ]
  },
  {
   "cell_type": "code",
   "execution_count": null,
   "metadata": {},
   "outputs": [],
   "source": [
    "import pandas as pd\n",
    "import torch\n",
    "from torch.utils.data import DataLoader\n",
    "from transformers import BertTokenizer, BertModel\n",
    "import torch.nn.functional as F\n",
    "from sentence_transformers import util, losses\n",
    "import numpy as np\n",
    "from sentence_transformers import SentenceTransformer, InputExample\n",
    "from sentence_transformers.evaluation import EmbeddingSimilarityEvaluator\n",
    "import xgboost as xgb\n",
    "from sklearn.metrics import confusion_matrix\n",
    "from sklearn.metrics import classification_report\n",
    "from sklearn.feature_extraction.text import TfidfVectorizer\n",
    "from sklearn.metrics.pairwise import cosine_similarity"
   ]
  },
  {
   "cell_type": "code",
   "execution_count": null,
   "metadata": {},
   "outputs": [],
   "source": [
    "fine_tuning_file_dir = './data/computers_train/computers_train_large.json.gz'\n",
    "ft_valid_file_dir = './data/computers_valid/computers_valid_large.csv'\n",
    "n_epochs = 1"
   ]
  },
  {
   "cell_type": "code",
   "execution_count": null,
   "metadata": {},
   "outputs": [],
   "source": [
    "# finetuning bert model\n",
    "large_df = pd.read_json(fine_tuning_file_dir, compression='gzip', lines=True)\n",
    "large_df = large_df.drop(columns=['id_left', 'id_right', 'cluster_id_left', 'cluster_id_right', 'identifiers_left', 'identifiers_right'])\n",
    "valid_ids = pd.read_csv(ft_valid_file_dir)\n",
    "ft_train_df = large_df.loc[~large_df['pair_id'].isin(valid_ids['pair_id'])]"
   ]
  },
  {
   "cell_type": "code",
   "execution_count": null,
   "metadata": {},
   "outputs": [],
   "source": [
    "\n",
    "titles_left = list(ft_train_df['title_left'])\n",
    "titles_right = list(ft_train_df['title_right'])\n",
    "\n",
    "descriptions_left = list(ft_train_df['description_left'])\n",
    "descriptions_right = list(ft_train_df['description_right'])\n"
   ]
  },
  {
   "cell_type": "code",
   "execution_count": null,
   "metadata": {},
   "outputs": [],
   "source": [
    "titles_left"
   ]
  },
  {
   "cell_type": "code",
   "execution_count": null,
   "metadata": {},
   "outputs": [],
   "source": [
    "train_samples = []\n",
    "for title_left, title_right in zip(titles_left, titles_right):\n",
    "    train_samples.append(InputExample(\n",
    "        texts=[title_left, title_right]\n",
    "    ))\n",
    "\n",
    "train_dataloader = DataLoader(\n",
    "    train_samples, batch_size=8\n",
    ")\n",
    "\n",
    "title_model = SentenceTransformer(\"sentence-transformers/paraphrase-multilingual-MiniLM-L12-v2\")\n",
    "loss = losses.MultipleNegativesRankingLoss(title_model)\n",
    "warmup_steps = int(len(train_dataloader) * n_epochs * 0.1)\n",
    "evaluator = EmbeddingSimilarityEvaluator.from_input_examples(train_samples, name='sts-dev')"
   ]
  },
  {
   "cell_type": "code",
   "execution_count": null,
   "metadata": {},
   "outputs": [],
   "source": [
    "title_model.fit(\n",
    "    train_objectives=[(train_dataloader, loss)],\n",
    "    evaluator=evaluator,\n",
    "    epochs=n_epochs,\n",
    "    evaluation_steps=1000,\n",
    "    warmup_steps=warmup_steps,\n",
    "    output_path='./title_model_finetuned')"
   ]
  },
  {
   "cell_type": "code",
   "execution_count": null,
   "metadata": {},
   "outputs": [],
   "source": [
    "train_samples = []\n",
    "for desc_left, desc_right in zip(descriptions_left, descriptions_right):\n",
    "    if desc_left != None and desc_right != None:\n",
    "        train_samples.append(InputExample(\n",
    "            texts=[desc_left, desc_right]\n",
    "        ))\n",
    "\n",
    "train_dataloader = DataLoader(\n",
    "    train_samples, batch_size=8\n",
    ")\n",
    "\n",
    "desc_model = SentenceTransformer(\"sentence-transformers/all-MiniLM-L12-v2\")\n",
    "loss = losses.MultipleNegativesRankingLoss(desc_model)\n",
    "warmup_steps = int(len(train_dataloader) * n_epochs * 0.1)\n",
    "evaluator = EmbeddingSimilarityEvaluator.from_input_examples(train_samples, name='sts-dev')"
   ]
  }
 ],
 "metadata": {
  "language_info": {
   "name": "python"
  },
  "orig_nbformat": 4
 },
 "nbformat": 4,
 "nbformat_minor": 2
}
