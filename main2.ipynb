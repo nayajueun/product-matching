{
 "cells": [
  {
   "cell_type": "code",
   "execution_count": 3,
   "metadata": {},
   "outputs": [
    {
     "name": "stderr",
     "output_type": "stream",
     "text": [
      "c:\\Python39\\lib\\site-packages\\tqdm\\auto.py:21: TqdmWarning: IProgress not found. Please update jupyter and ipywidgets. See https://ipywidgets.readthedocs.io/en/stable/user_install.html\n",
      "  from .autonotebook import tqdm as notebook_tqdm\n"
     ]
    }
   ],
   "source": [
    "from sentence_transformers import SentenceTransformer, InputExample\n",
    "from sentence_transformers.evaluation import EmbeddingSimilarityEvaluator"
   ]
  },
  {
   "cell_type": "code",
   "execution_count": 4,
   "metadata": {},
   "outputs": [],
   "source": [
    "import pandas as pd\n",
    "import torch\n",
    "from torch.utils.data import DataLoader\n",
    "from transformers import BertTokenizer, BertModel\n",
    "import torch.nn.functional as F\n",
    "from sentence_transformers import util, losses\n",
    "import numpy as np\n",
    "from sentence_transformers import SentenceTransformer, InputExample\n",
    "from sentence_transformers.evaluation import EmbeddingSimilarityEvaluator\n",
    "import xgboost as xgb\n",
    "from sklearn.metrics import confusion_matrix\n",
    "from sklearn.metrics import classification_report"
   ]
  },
  {
   "cell_type": "code",
   "execution_count": 1,
   "metadata": {},
   "outputs": [],
   "source": [
    "fine_tuning_file_dir = './data/computers_train/computers_train_large.json.gz'\n",
    "ft_valid_file_dir = './data/computers_valid/computers_valid_large.csv'\n",
    "n_epochs = 1"
   ]
  },
  {
   "cell_type": "code",
   "execution_count": 7,
   "metadata": {},
   "outputs": [],
   "source": [
    "# finetuning bert model\n",
    "large_df = pd.read_json(fine_tuning_file_dir, compression='gzip', lines=True)\n",
    "large_df = large_df.drop(columns=['id_left', 'id_right', 'cluster_id_left', 'cluster_id_right', 'identifiers_left', 'identifiers_right'])\n",
    "valid_ids = pd.read_csv(ft_valid_file_dir)\n",
    "ft_train_df = large_df.loc[~large_df['pair_id'].isin(valid_ids['pair_id'])]"
   ]
  },
  {
   "cell_type": "code",
   "execution_count": 8,
   "metadata": {},
   "outputs": [],
   "source": [
    "\n",
    "titles_left = list(ft_train_df['title_left'])\n",
    "titles_right = list(ft_train_df['title_right'])\n",
    "\n",
    "descriptions_left = list(ft_train_df['description_left'])\n",
    "descriptions_right = list(ft_train_df['description_right'])\n"
   ]
  },
  {
   "cell_type": "code",
   "execution_count": 9,
   "metadata": {},
   "outputs": [],
   "source": [
    "train_samples = []\n",
    "for title_left, title_right in zip(titles_left, titles_right):\n",
    "    train_samples.append(InputExample(\n",
    "        texts=[title_left, title_right]\n",
    "    ))\n",
    "\n",
    "train_dataloader = DataLoader(\n",
    "    train_samples, batch_size=8\n",
    ")\n",
    "\n",
    "# title_model = SentenceTransformer(\"sentence-transformers/paraphrase-multilingual-MiniLM-L12-v2\")\n",
    "# loss = losses.MultipleNegativesRankingLoss(title_model)\n",
    "# warmup_steps = int(len(train_dataloader) * n_epochs * 0.1)\n",
    "# evaluator = EmbeddingSimilarityEvaluator.from_input_examples(train_samples, name='sts-dev')"
   ]
  },
  {
   "cell_type": "code",
   "execution_count": 10,
   "metadata": {},
   "outputs": [
    {
     "ename": "NameError",
     "evalue": "name 'title_model' is not defined",
     "output_type": "error",
     "traceback": [
      "\u001b[1;31m---------------------------------------------------------------------------\u001b[0m",
      "\u001b[1;31mNameError\u001b[0m                                 Traceback (most recent call last)",
      "\u001b[1;32mc:\\Users\\nayaj\\Desktop\\git-project\\product-matching\\main2.ipynb Cell 7\u001b[0m in \u001b[0;36m<cell line: 1>\u001b[1;34m()\u001b[0m\n\u001b[1;32m----> <a href='vscode-notebook-cell:/c%3A/Users/nayaj/Desktop/git-project/product-matching/main2.ipynb#W6sZmlsZQ%3D%3D?line=0'>1</a>\u001b[0m title_model\u001b[39m.\u001b[39mfit(\n\u001b[0;32m      <a href='vscode-notebook-cell:/c%3A/Users/nayaj/Desktop/git-project/product-matching/main2.ipynb#W6sZmlsZQ%3D%3D?line=1'>2</a>\u001b[0m     train_objectives\u001b[39m=\u001b[39m[(train_dataloader, loss)],\n\u001b[0;32m      <a href='vscode-notebook-cell:/c%3A/Users/nayaj/Desktop/git-project/product-matching/main2.ipynb#W6sZmlsZQ%3D%3D?line=2'>3</a>\u001b[0m     evaluator\u001b[39m=\u001b[39mevaluator,\n\u001b[0;32m      <a href='vscode-notebook-cell:/c%3A/Users/nayaj/Desktop/git-project/product-matching/main2.ipynb#W6sZmlsZQ%3D%3D?line=3'>4</a>\u001b[0m     epochs\u001b[39m=\u001b[39mn_epochs,\n\u001b[0;32m      <a href='vscode-notebook-cell:/c%3A/Users/nayaj/Desktop/git-project/product-matching/main2.ipynb#W6sZmlsZQ%3D%3D?line=4'>5</a>\u001b[0m     evaluation_steps\u001b[39m=\u001b[39m\u001b[39m1000\u001b[39m,\n\u001b[0;32m      <a href='vscode-notebook-cell:/c%3A/Users/nayaj/Desktop/git-project/product-matching/main2.ipynb#W6sZmlsZQ%3D%3D?line=5'>6</a>\u001b[0m     warmup_steps\u001b[39m=\u001b[39mwarmup_steps,\n\u001b[0;32m      <a href='vscode-notebook-cell:/c%3A/Users/nayaj/Desktop/git-project/product-matching/main2.ipynb#W6sZmlsZQ%3D%3D?line=6'>7</a>\u001b[0m     output_path\u001b[39m=\u001b[39m\u001b[39m'\u001b[39m\u001b[39m./title_model_finetuned\u001b[39m\u001b[39m'\u001b[39m)\n",
      "\u001b[1;31mNameError\u001b[0m: name 'title_model' is not defined"
     ]
    }
   ],
   "source": [
    "title_model.fit(\n",
    "    train_objectives=[(train_dataloader, loss)],\n",
    "    evaluator=evaluator,\n",
    "    epochs=n_epochs,\n",
    "    evaluation_steps=1000,\n",
    "    warmup_steps=warmup_steps,\n",
    "    output_path='./title_model_finetuned')"
   ]
  },
  {
   "cell_type": "code",
   "execution_count": null,
   "metadata": {},
   "outputs": [],
   "source": []
  },
  {
   "cell_type": "code",
   "execution_count": 19,
   "metadata": {},
   "outputs": [
    {
     "name": "stderr",
     "output_type": "stream",
     "text": [
      "Downloading (…)5dded/.gitattributes: 100%|██████████| 1.18k/1.18k [00:00<00:00, 100kB/s]\n",
      "Downloading (…)_Pooling/config.json: 100%|██████████| 190/190 [00:00<00:00, 29.2kB/s]\n",
      "Downloading (…)4d81d5dded/README.md: 100%|██████████| 10.6k/10.6k [00:00<00:00, 1.66MB/s]\n",
      "Downloading (…)81d5dded/config.json: 100%|██████████| 573/573 [00:00<00:00, 49.7kB/s]\n",
      "Downloading (…)ce_transformers.json: 100%|██████████| 116/116 [00:00<00:00, 16.5kB/s]\n",
      "Downloading (…)ded/data_config.json: 100%|██████████| 39.3k/39.3k [00:00<00:00, 332kB/s]\n",
      "Downloading (…)\"pytorch_model.bin\";: 100%|██████████| 134M/134M [00:39<00:00, 3.37MB/s] \n",
      "Downloading (…)nce_bert_config.json: 100%|██████████| 53.0/53.0 [00:00<00:00, 6.63kB/s]\n",
      "Downloading (…)cial_tokens_map.json: 100%|██████████| 112/112 [00:00<00:00, 16.0kB/s]\n",
      "Downloading (…)5dded/tokenizer.json: 100%|██████████| 466k/466k [00:00<00:00, 1.06MB/s]\n",
      "Downloading (…)okenizer_config.json: 100%|██████████| 352/352 [00:00<00:00, 70.4kB/s]\n",
      "Downloading (…)dded/train_script.py: 100%|██████████| 13.2k/13.2k [00:00<00:00, 1.88MB/s]\n",
      "Downloading (…)4d81d5dded/vocab.txt: 100%|██████████| 232k/232k [00:00<00:00, 705kB/s]\n",
      "Downloading (…)1d5dded/modules.json: 100%|██████████| 349/349 [00:00<00:00, 57.7kB/s]\n"
     ]
    }
   ],
   "source": [
    "train_samples = []\n",
    "for desc_left, desc_right in zip(descriptions_left, descriptions_right):\n",
    "    if desc_left != None and desc_right != None:\n",
    "        train_samples.append(InputExample(\n",
    "            texts=[desc_left, desc_right]\n",
    "        ))\n",
    "\n",
    "train_dataloader = DataLoader(\n",
    "    train_samples, batch_size=8\n",
    ")\n",
    "\n",
    "desc_model = SentenceTransformer(\"sentence-transformers/all-MiniLM-L12-v2\")\n",
    "loss = losses.MultipleNegativesRankingLoss(desc_model)\n",
    "warmup_steps = int(len(train_dataloader) * n_epochs * 0.1)\n",
    "evaluator = EmbeddingSimilarityEvaluator.from_input_examples(train_samples, name='sts-dev')"
   ]
  },
  {
   "cell_type": "code",
   "execution_count": 40,
   "metadata": {},
   "outputs": [
    {
     "data": {
      "application/vnd.jupyter.widget-view+json": {
       "model_id": "81dcfc6907ae4003be8c9532998699d8",
       "version_major": 2,
       "version_minor": 0
      },
      "text/plain": [
       "Epoch:   0%|          | 0/1 [00:00<?, ?it/s]"
      ]
     },
     "metadata": {},
     "output_type": "display_data"
    },
    {
     "data": {
      "application/vnd.jupyter.widget-view+json": {
       "model_id": "efbb50cd556b42cf827425877cc14208",
       "version_major": 2,
       "version_minor": 0
      },
      "text/plain": [
       "Iteration:   0%|          | 0/48 [00:00<?, ?it/s]"
      ]
     },
     "metadata": {},
     "output_type": "display_data"
    },
    {
     "name": "stderr",
     "output_type": "stream",
     "text": [
      "/opt/conda/lib/python3.7/site-packages/scipy/stats/stats.py:3845: PearsonRConstantInputWarning: An input array is constant; the correlation coefficent is not defined.\n",
      "  warnings.warn(PearsonRConstantInputWarning())\n",
      "/opt/conda/lib/python3.7/site-packages/scipy/stats/stats.py:4196: SpearmanRConstantInputWarning: An input array is constant; the correlation coefficent is not defined.\n",
      "  warnings.warn(SpearmanRConstantInputWarning())\n"
     ]
    }
   ],
   "source": [
    "desc_model.fit(\n",
    "    train_objectives=[(train_dataloader, loss)],\n",
    "    evaluator=evaluator,\n",
    "    epochs=n_epochs,\n",
    "    evaluation_steps=1000,\n",
    "    warmup_steps=warmup_steps,\n",
    "    output_path='./desc_model'\n",
    "    )"
   ]
  },
  {
   "cell_type": "code",
   "execution_count": 41,
   "metadata": {},
   "outputs": [],
   "source": [
    "sbert_model_mult = SentenceTransformer('sentence-transformers/paraphrase-multilingual-MiniLM-L12-v2')\n",
    "sbert_model_eng = SentenceTransformer('sentence-transformers/paraphrase-multilingual-MiniLM-L12-v2')"
   ]
  },
  {
   "cell_type": "code",
   "execution_count": 42,
   "metadata": {},
   "outputs": [],
   "source": [
    "def get_similarity(model, s_pair):\n",
    "    if s_pair[0] == None or s_pair[1] == None:\n",
    "        return None \n",
    "\n",
    "    if s_pair[0] == s_pair[1]:\n",
    "        return 1.0\n",
    "    \n",
    "    embds = model.encode(s_pair)\n",
    "    sim_score = util.cos_sim(embds[0], embds[1]).item()\n",
    "    return sim_score\n",
    "\n",
    "def get_similarity_keyval(dic1, dic2):\n",
    "    key_set = set()\n",
    "    tot_sim = 0\n",
    "    for key, value1 in zip(dic1.keys(), dic1.values()):\n",
    "        if key in dic2:\n",
    "            value2 = dic2[key]\n",
    "            if value2 == value1:\n",
    "                tot_sim += 1\n",
    "\n",
    "        key_set.add(key)\n",
    "\n",
    "    for key2 in dic2:\n",
    "        key_set.add(key2)\n",
    "\n",
    "    return tot_sim / len(key_set)"
   ]
  },
  {
   "cell_type": "code",
   "execution_count": 45,
   "metadata": {},
   "outputs": [],
   "source": [
    "data_df = pd.read_json('../data/computers_train/computers_train_medium.json.gz', compression='gzip', lines=True)\n",
    "data_df = data_df.drop(columns=['id_left', 'id_right', 'cluster_id_left', 'cluster_id_right', 'identifiers_left', 'identifiers_right'])\n",
    "\n",
    "valid_ids = pd.read_csv('../data/computers_valid/computers_valid_medium.csv')\n",
    "\n",
    "train_df = data_df.loc[~data_df['pair_id'].isin(valid_ids['pair_id'])]\n",
    "valid_df = data_df.loc[data_df['pair_id'].isin(valid_ids['pair_id'])]"
   ]
  },
  {
   "cell_type": "code",
   "execution_count": 47,
   "metadata": {},
   "outputs": [],
   "source": [
    "def compute_features(df):\n",
    "    df['title_sim'] = df.apply(lambda x: get_similarity(title_model, (x['title_left'], x['title_right'])), axis=1)\n",
    "    print(\"title done\")\n",
    "    df['description_sim'] = df.apply(lambda x: get_similarity(desc_model, (x['description_left'], x['description_right'])), axis=1)\n",
    "    print(\"description done\")\n",
    "    df['brand_sim'] = df.apply(lambda x: get_similarity(sbert_model_eng, (x['brand_left'], x['brand_right'])), axis=1)\n",
    "    print(\"brand done\")\n",
    "    df['cat_sim'] = df.apply(lambda x: get_similarity(sbert_model_eng, (x['category_left'], x['category_right'])), axis=1)\n",
    "    print(\"cat done\")\n",
    "    df = df.drop(columns=['title_left', 'description_left', 'brand_left', 'price_left', 'specTableContent_left', \\\n",
    "    'category_left', 'title_right', 'description_right', 'brand_right', 'price_right', 'specTableContent_right',\n",
    "    'category_right', 'pair_id'\n",
    "    ])\n",
    "    return df"
   ]
  },
  {
   "cell_type": "code",
   "execution_count": 49,
   "metadata": {},
   "outputs": [
    {
     "name": "stderr",
     "output_type": "stream",
     "text": [
      "/opt/conda/lib/python3.7/site-packages/ipykernel_launcher.py:2: SettingWithCopyWarning: \n",
      "A value is trying to be set on a copy of a slice from a DataFrame.\n",
      "Try using .loc[row_indexer,col_indexer] = value instead\n",
      "\n",
      "See the caveats in the documentation: https://pandas.pydata.org/pandas-docs/stable/user_guide/indexing.html#returning-a-view-versus-a-copy\n",
      "  \n"
     ]
    },
    {
     "name": "stdout",
     "output_type": "stream",
     "text": [
      "title done\n"
     ]
    },
    {
     "name": "stderr",
     "output_type": "stream",
     "text": [
      "/opt/conda/lib/python3.7/site-packages/ipykernel_launcher.py:4: SettingWithCopyWarning: \n",
      "A value is trying to be set on a copy of a slice from a DataFrame.\n",
      "Try using .loc[row_indexer,col_indexer] = value instead\n",
      "\n",
      "See the caveats in the documentation: https://pandas.pydata.org/pandas-docs/stable/user_guide/indexing.html#returning-a-view-versus-a-copy\n",
      "  after removing the cwd from sys.path.\n"
     ]
    },
    {
     "name": "stdout",
     "output_type": "stream",
     "text": [
      "description done\n"
     ]
    },
    {
     "name": "stderr",
     "output_type": "stream",
     "text": [
      "/opt/conda/lib/python3.7/site-packages/ipykernel_launcher.py:6: SettingWithCopyWarning: \n",
      "A value is trying to be set on a copy of a slice from a DataFrame.\n",
      "Try using .loc[row_indexer,col_indexer] = value instead\n",
      "\n",
      "See the caveats in the documentation: https://pandas.pydata.org/pandas-docs/stable/user_guide/indexing.html#returning-a-view-versus-a-copy\n",
      "  \n"
     ]
    },
    {
     "name": "stdout",
     "output_type": "stream",
     "text": [
      "brand done\n",
      "cat done\n"
     ]
    },
    {
     "name": "stderr",
     "output_type": "stream",
     "text": [
      "/opt/conda/lib/python3.7/site-packages/ipykernel_launcher.py:8: SettingWithCopyWarning: \n",
      "A value is trying to be set on a copy of a slice from a DataFrame.\n",
      "Try using .loc[row_indexer,col_indexer] = value instead\n",
      "\n",
      "See the caveats in the documentation: https://pandas.pydata.org/pandas-docs/stable/user_guide/indexing.html#returning-a-view-versus-a-copy\n",
      "  \n"
     ]
    }
   ],
   "source": [
    "num_train_df = compute_features(train_df)"
   ]
  },
  {
   "cell_type": "code",
   "execution_count": null,
   "metadata": {},
   "outputs": [],
   "source": [
    "num_valid_df = compute_features(valid_df)"
   ]
  },
  {
   "cell_type": "code",
   "execution_count": 58,
   "metadata": {},
   "outputs": [],
   "source": [
    "#importing dataset\n",
    "#isolate the x and y variables\n",
    "y_train = np.array(num_train_df['label'])\n",
    "X_train = num_train_df.drop(columns=[\"label\"])\n",
    "    \n",
    "y_test = np.array(num_valid_df['label'])\n",
    "X_test = num_valid_df.drop(columns=[\"label\"])\n"
   ]
  },
  {
   "cell_type": "code",
   "execution_count": null,
   "metadata": {},
   "outputs": [],
   "source": [
    "\n",
    "#create xgboost matrices\n",
    "Train = xgb.DMatrix(X_train, label = y_train)\n",
    "Test = xgb.DMatrix(X_test, label = y_test)\n",
    "\n",
    "#set the parameters\n",
    "parameters = {'learning_rate': 0.3,\n",
    "               'max_depth': 2,\n",
    "               'colsample_bytree': 1,\n",
    "               'subsample': 1,\n",
    "               'min_child_weight': 1,\n",
    "               'gamma': 0, \n",
    "               'random_state': 1500,\n",
    "               'eval_metric': \"auc\",\n",
    "               'objective': \"binary:logistic\"}\n",
    "\n",
    "\n",
    "model = xgb.train(params = parameters,\n",
    "                dtrain = Train,\n",
    "                num_boost_round = 200,\n",
    "                evals = [(Test, \"Yes\")],\n",
    "                verbose_eval = 50)\n",
    "\n",
    "\n",
    "#PRedictions\n",
    "pred = model.predict(Test)\n",
    "pred = np.where(pred > 0.5, 1, 0)\n",
    "\n",
    "confusion_matrix = confusion_matrix(y_test, pred)\n",
    "report = classification_report(y_test, pred)\n",
    "print(report)\n"
   ]
  },
  {
   "cell_type": "code",
   "execution_count": null,
   "metadata": {},
   "outputs": [],
   "source": []
  },
  {
   "cell_type": "code",
   "execution_count": null,
   "metadata": {},
   "outputs": [],
   "source": []
  }
 ],
 "metadata": {
  "kernelspec": {
   "display_name": "Python 3.7.7 ('base')",
   "language": "python",
   "name": "python3"
  },
  "language_info": {
   "codemirror_mode": {
    "name": "ipython",
    "version": 3
   },
   "file_extension": ".py",
   "mimetype": "text/x-python",
   "name": "python",
   "nbconvert_exporter": "python",
   "pygments_lexer": "ipython3",
   "version": "3.9.4"
  },
  "orig_nbformat": 4,
  "vscode": {
   "interpreter": {
    "hash": "d4d1e4263499bec80672ea0156c357c1ee493ec2b1c70f0acce89fc37c4a6abe"
   }
  }
 },
 "nbformat": 4,
 "nbformat_minor": 2
}
